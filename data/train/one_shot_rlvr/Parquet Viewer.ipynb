{
 "cells": [
  {
   "cell_type": "raw",
   "id": "44136f74-073a-4752-ada8-88f7212bc8e6",
   "metadata": {},
   "source": [
    "Use this notebook to convert text2sql dataset in the format expected for rlvr"
   ]
  },
  {
   "cell_type": "code",
   "execution_count": null,
   "id": "c5d38f22-2ca3-482b-a068-02fb84910ea8",
   "metadata": {},
   "outputs": [],
   "source": [
    "!pip install pyarrow"
   ]
  },
  {
   "cell_type": "code",
   "execution_count": 40,
   "id": "2c0dd7c2-4e34-49e1-b53e-691c78c1d498",
   "metadata": {},
   "outputs": [],
   "source": [
    "import pandas as pd\n",
    "dataset = pd.read_parquet('/home/ubuntu/One-Shot-RLVR-Codes/data/test/math500.parquet', engine='pyarrow')"
   ]
  },
  {
   "cell_type": "code",
   "execution_count": 41,
   "id": "50b0ec6d-873f-4f40-805c-dd44ac682c41",
   "metadata": {},
   "outputs": [
    {
     "data": {
      "text/html": [
       "<div>\n",
       "<style scoped>\n",
       "    .dataframe tbody tr th:only-of-type {\n",
       "        vertical-align: middle;\n",
       "    }\n",
       "\n",
       "    .dataframe tbody tr th {\n",
       "        vertical-align: top;\n",
       "    }\n",
       "\n",
       "    .dataframe thead th {\n",
       "        text-align: right;\n",
       "    }\n",
       "</style>\n",
       "<table border=\"1\" class=\"dataframe\">\n",
       "  <thead>\n",
       "    <tr style=\"text-align: right;\">\n",
       "      <th></th>\n",
       "      <th>data_source</th>\n",
       "      <th>prompt</th>\n",
       "      <th>ability</th>\n",
       "      <th>reward_model</th>\n",
       "      <th>extra_info</th>\n",
       "    </tr>\n",
       "  </thead>\n",
       "  <tbody>\n",
       "    <tr>\n",
       "      <th>0</th>\n",
       "      <td>simplerl/math500</td>\n",
       "      <td>[{'content': 'Convert the point $(0,3)$ in rec...</td>\n",
       "      <td>math</td>\n",
       "      <td>{'ground_truth': '\\left( 3, \\frac{\\pi}{2} \\rig...</td>\n",
       "      <td>{'index': 0, 'level': '2', 'solution': 'We hav...</td>\n",
       "    </tr>\n",
       "    <tr>\n",
       "      <th>1</th>\n",
       "      <td>simplerl/math500</td>\n",
       "      <td>[{'content': 'Define\n",
       "\\[p = \\sum_{k = 1}^\\infty...</td>\n",
       "      <td>math</td>\n",
       "      <td>{'ground_truth': 'p - q', 'style': 'rule'}</td>\n",
       "      <td>{'index': 1, 'level': '5', 'solution': 'We cou...</td>\n",
       "    </tr>\n",
       "    <tr>\n",
       "      <th>2</th>\n",
       "      <td>simplerl/math500</td>\n",
       "      <td>[{'content': 'If $f(x) = \\frac{3x-2}{x-2}$, wh...</td>\n",
       "      <td>math</td>\n",
       "      <td>{'ground_truth': '\\frac{14}{3}', 'style': 'rule'}</td>\n",
       "      <td>{'index': 2, 'level': '3', 'solution': '$f(-2)...</td>\n",
       "    </tr>\n",
       "    <tr>\n",
       "      <th>3</th>\n",
       "      <td>simplerl/math500</td>\n",
       "      <td>[{'content': 'How many positive whole-number d...</td>\n",
       "      <td>math</td>\n",
       "      <td>{'ground_truth': '9', 'style': 'rule'}</td>\n",
       "      <td>{'index': 3, 'level': '3', 'solution': 'First ...</td>\n",
       "    </tr>\n",
       "    <tr>\n",
       "      <th>4</th>\n",
       "      <td>simplerl/math500</td>\n",
       "      <td>[{'content': 'The results of a cross-country t...</td>\n",
       "      <td>math</td>\n",
       "      <td>{'ground_truth': '\\text{Evelyn}', 'style': 'ru...</td>\n",
       "      <td>{'index': 4, 'level': '2', 'solution': 'Evelyn...</td>\n",
       "    </tr>\n",
       "  </tbody>\n",
       "</table>\n",
       "</div>"
      ],
      "text/plain": [
       "        data_source                                             prompt  \\\n",
       "0  simplerl/math500  [{'content': 'Convert the point $(0,3)$ in rec...   \n",
       "1  simplerl/math500  [{'content': 'Define\n",
       "\\[p = \\sum_{k = 1}^\\infty...   \n",
       "2  simplerl/math500  [{'content': 'If $f(x) = \\frac{3x-2}{x-2}$, wh...   \n",
       "3  simplerl/math500  [{'content': 'How many positive whole-number d...   \n",
       "4  simplerl/math500  [{'content': 'The results of a cross-country t...   \n",
       "\n",
       "  ability                                       reward_model  \\\n",
       "0    math  {'ground_truth': '\\left( 3, \\frac{\\pi}{2} \\rig...   \n",
       "1    math         {'ground_truth': 'p - q', 'style': 'rule'}   \n",
       "2    math  {'ground_truth': '\\frac{14}{3}', 'style': 'rule'}   \n",
       "3    math             {'ground_truth': '9', 'style': 'rule'}   \n",
       "4    math  {'ground_truth': '\\text{Evelyn}', 'style': 'ru...   \n",
       "\n",
       "                                          extra_info  \n",
       "0  {'index': 0, 'level': '2', 'solution': 'We hav...  \n",
       "1  {'index': 1, 'level': '5', 'solution': 'We cou...  \n",
       "2  {'index': 2, 'level': '3', 'solution': '$f(-2)...  \n",
       "3  {'index': 3, 'level': '3', 'solution': 'First ...  \n",
       "4  {'index': 4, 'level': '2', 'solution': 'Evelyn...  "
      ]
     },
     "execution_count": 41,
     "metadata": {},
     "output_type": "execute_result"
    }
   ],
   "source": [
    "dataset.head()"
   ]
  },
  {
   "cell_type": "code",
   "execution_count": 16,
   "id": "961a3802-381f-4245-bfae-dd4a25dcd6f8",
   "metadata": {},
   "outputs": [
    {
     "data": {
      "text/plain": [
       "array([{'content': \"Suppose we flip four coins simultaneously: a penny, a nickel, a dime, and a quarter.  What is the probability that at least 15 cents worth of coins come up heads? Let's think step by step and output the final answer within \\\\boxed{}.\", 'role': 'user'}],\n",
       "      dtype=object)"
      ]
     },
     "execution_count": 16,
     "metadata": {},
     "output_type": "execute_result"
    }
   ],
   "source": [
    "dataset['prompt'][10]"
   ]
  },
  {
   "cell_type": "code",
   "execution_count": 12,
   "id": "5944614e-9510-4976-9748-04fa82e46043",
   "metadata": {},
   "outputs": [],
   "source": [
    "import json"
   ]
  },
  {
   "cell_type": "code",
   "execution_count": 14,
   "id": "4ee8243a-b3e5-4252-9471-c813b63b3cb7",
   "metadata": {},
   "outputs": [],
   "source": [
    "text2sql_data_path = 'data/sft_spider_syn_text2sql.json'\n",
    "text2sql_data = pd.read_json(text2sql_data_path)"
   ]
  },
  {
   "cell_type": "code",
   "execution_count": 15,
   "id": "7600f816-f72f-4e04-a5f3-7ea6dbdeb2b1",
   "metadata": {},
   "outputs": [
    {
     "data": {
      "text/html": [
       "<div>\n",
       "<style scoped>\n",
       "    .dataframe tbody tr th:only-of-type {\n",
       "        vertical-align: middle;\n",
       "    }\n",
       "\n",
       "    .dataframe tbody tr th {\n",
       "        vertical-align: top;\n",
       "    }\n",
       "\n",
       "    .dataframe thead th {\n",
       "        text-align: right;\n",
       "    }\n",
       "</style>\n",
       "<table border=\"1\" class=\"dataframe\">\n",
       "  <thead>\n",
       "    <tr style=\"text-align: right;\">\n",
       "      <th></th>\n",
       "      <th>db_id</th>\n",
       "      <th>db_path</th>\n",
       "      <th>schema</th>\n",
       "      <th>question</th>\n",
       "      <th>evidence</th>\n",
       "      <th>text</th>\n",
       "      <th>sql</th>\n",
       "      <th>table_labels</th>\n",
       "      <th>column_labels</th>\n",
       "      <th>matched_contents</th>\n",
       "      <th>source</th>\n",
       "    </tr>\n",
       "  </thead>\n",
       "  <tbody>\n",
       "    <tr>\n",
       "      <th>0</th>\n",
       "      <td>department_management</td>\n",
       "      <td>./data/sft_data_collections/spider/database/de...</td>\n",
       "      <td>{'schema_items': [{'table_name': 'department',...</td>\n",
       "      <td>How many heads of the departments are older th...</td>\n",
       "      <td></td>\n",
       "      <td>How many heads of the departments are older th...</td>\n",
       "      <td>SELECT count(*) FROM head WHERE age  &gt;  56</td>\n",
       "      <td>[0, 1, 0]</td>\n",
       "      <td>[[0, 0, 0, 0, 0, 0], [0, 0, 0, 1], [0, 0, 0]]</td>\n",
       "      <td>{}</td>\n",
       "      <td>spider-train</td>\n",
       "    </tr>\n",
       "    <tr>\n",
       "      <th>1</th>\n",
       "      <td>department_management</td>\n",
       "      <td>./data/sft_data_collections/spider/database/de...</td>\n",
       "      <td>{'schema_items': [{'table_name': 'department',...</td>\n",
       "      <td>List the name, born state and age of the heads...</td>\n",
       "      <td></td>\n",
       "      <td>List the name, born state and age of the heads...</td>\n",
       "      <td>SELECT name ,  born_state ,  age FROM head ORD...</td>\n",
       "      <td>[0, 1, 0]</td>\n",
       "      <td>[[0, 1, 0, 0, 0, 0], [0, 1, 1, 1], [0, 0, 0]]</td>\n",
       "      <td>{'department.name': ['State']}</td>\n",
       "      <td>spider-train</td>\n",
       "    </tr>\n",
       "    <tr>\n",
       "      <th>2</th>\n",
       "      <td>department_management</td>\n",
       "      <td>./data/sft_data_collections/spider/database/de...</td>\n",
       "      <td>{'schema_items': [{'table_name': 'department',...</td>\n",
       "      <td>List the creation year, name and budget of eac...</td>\n",
       "      <td></td>\n",
       "      <td>List the creation year, name and budget of eac...</td>\n",
       "      <td>SELECT creation ,  name ,  budget_in_billions ...</td>\n",
       "      <td>[1, 0, 0]</td>\n",
       "      <td>[[0, 1, 1, 0, 1, 0], [0, 1, 0, 0], [0, 0, 0]]</td>\n",
       "      <td>{}</td>\n",
       "      <td>spider-train</td>\n",
       "    </tr>\n",
       "    <tr>\n",
       "      <th>3</th>\n",
       "      <td>department_management</td>\n",
       "      <td>./data/sft_data_collections/spider/database/de...</td>\n",
       "      <td>{'schema_items': [{'table_name': 'department',...</td>\n",
       "      <td>What are the maximum and minimum budget of the...</td>\n",
       "      <td></td>\n",
       "      <td>What are the maximum and minimum budget of the...</td>\n",
       "      <td>SELECT max(budget_in_billions) ,  min(budget_i...</td>\n",
       "      <td>[1, 0, 0]</td>\n",
       "      <td>[[0, 0, 0, 0, 1, 0], [0, 0, 0, 0], [0, 0, 0]]</td>\n",
       "      <td>{}</td>\n",
       "      <td>spider-train</td>\n",
       "    </tr>\n",
       "    <tr>\n",
       "      <th>4</th>\n",
       "      <td>department_management</td>\n",
       "      <td>./data/sft_data_collections/spider/database/de...</td>\n",
       "      <td>{'schema_items': [{'table_name': 'department',...</td>\n",
       "      <td>What is the average number of employees of the...</td>\n",
       "      <td></td>\n",
       "      <td>What is the average number of employees of the...</td>\n",
       "      <td>SELECT avg(num_employees) FROM department WHER...</td>\n",
       "      <td>[1, 0, 0]</td>\n",
       "      <td>[[0, 0, 0, 1, 0, 1], [0, 0, 0, 0], [0, 0, 0]]</td>\n",
       "      <td>{'department.department_id': ['10', '15'], 'de...</td>\n",
       "      <td>spider-train</td>\n",
       "    </tr>\n",
       "  </tbody>\n",
       "</table>\n",
       "</div>"
      ],
      "text/plain": [
       "                   db_id                                            db_path  \\\n",
       "0  department_management  ./data/sft_data_collections/spider/database/de...   \n",
       "1  department_management  ./data/sft_data_collections/spider/database/de...   \n",
       "2  department_management  ./data/sft_data_collections/spider/database/de...   \n",
       "3  department_management  ./data/sft_data_collections/spider/database/de...   \n",
       "4  department_management  ./data/sft_data_collections/spider/database/de...   \n",
       "\n",
       "                                              schema  \\\n",
       "0  {'schema_items': [{'table_name': 'department',...   \n",
       "1  {'schema_items': [{'table_name': 'department',...   \n",
       "2  {'schema_items': [{'table_name': 'department',...   \n",
       "3  {'schema_items': [{'table_name': 'department',...   \n",
       "4  {'schema_items': [{'table_name': 'department',...   \n",
       "\n",
       "                                            question evidence  \\\n",
       "0  How many heads of the departments are older th...            \n",
       "1  List the name, born state and age of the heads...            \n",
       "2  List the creation year, name and budget of eac...            \n",
       "3  What are the maximum and minimum budget of the...            \n",
       "4  What is the average number of employees of the...            \n",
       "\n",
       "                                                text  \\\n",
       "0  How many heads of the departments are older th...   \n",
       "1  List the name, born state and age of the heads...   \n",
       "2  List the creation year, name and budget of eac...   \n",
       "3  What are the maximum and minimum budget of the...   \n",
       "4  What is the average number of employees of the...   \n",
       "\n",
       "                                                 sql table_labels  \\\n",
       "0         SELECT count(*) FROM head WHERE age  >  56    [0, 1, 0]   \n",
       "1  SELECT name ,  born_state ,  age FROM head ORD...    [0, 1, 0]   \n",
       "2  SELECT creation ,  name ,  budget_in_billions ...    [1, 0, 0]   \n",
       "3  SELECT max(budget_in_billions) ,  min(budget_i...    [1, 0, 0]   \n",
       "4  SELECT avg(num_employees) FROM department WHER...    [1, 0, 0]   \n",
       "\n",
       "                                   column_labels  \\\n",
       "0  [[0, 0, 0, 0, 0, 0], [0, 0, 0, 1], [0, 0, 0]]   \n",
       "1  [[0, 1, 0, 0, 0, 0], [0, 1, 1, 1], [0, 0, 0]]   \n",
       "2  [[0, 1, 1, 0, 1, 0], [0, 1, 0, 0], [0, 0, 0]]   \n",
       "3  [[0, 0, 0, 0, 1, 0], [0, 0, 0, 0], [0, 0, 0]]   \n",
       "4  [[0, 0, 0, 1, 0, 1], [0, 0, 0, 0], [0, 0, 0]]   \n",
       "\n",
       "                                    matched_contents        source  \n",
       "0                                                 {}  spider-train  \n",
       "1                     {'department.name': ['State']}  spider-train  \n",
       "2                                                 {}  spider-train  \n",
       "3                                                 {}  spider-train  \n",
       "4  {'department.department_id': ['10', '15'], 'de...  spider-train  "
      ]
     },
     "execution_count": 15,
     "metadata": {},
     "output_type": "execute_result"
    }
   ],
   "source": [
    "text2sql_data.head()"
   ]
  },
  {
   "cell_type": "code",
   "execution_count": 16,
   "id": "dcb30d31-ab58-4c99-b7ca-59239e2b85af",
   "metadata": {
    "scrolled": true
   },
   "outputs": [
    {
     "data": {
      "text/plain": [
       "{'schema_items': [{'table_name': 'department',\n",
       "   'table_comment': '',\n",
       "   'column_names': ['department_id',\n",
       "    'name',\n",
       "    'creation',\n",
       "    'ranking',\n",
       "    'budget_in_billions',\n",
       "    'num_employees'],\n",
       "   'column_types': ['int', 'text', 'text', 'int', 'real', 'real'],\n",
       "   'column_comments': ['', '', '', '', '', ''],\n",
       "   'column_contents': [['1', '2'],\n",
       "    ['State', 'Treasury'],\n",
       "    ['1789', '1947'],\n",
       "    ['1', '2'],\n",
       "    ['9.96', '11.1'],\n",
       "    ['30266.0', '115897.0']],\n",
       "   'pk_indicators': [1, 0, 0, 0, 0, 0]},\n",
       "  {'table_name': 'head',\n",
       "   'table_comment': '',\n",
       "   'column_names': ['head_id', 'name', 'born_state', 'age'],\n",
       "   'column_types': ['int', 'text', 'text', 'real'],\n",
       "   'column_comments': ['', '', '', ''],\n",
       "   'column_contents': [['1', '2'],\n",
       "    ['Tiger Woods', 'Sergio García'],\n",
       "    ['Alabama', 'California'],\n",
       "    ['67.0', '68.0']],\n",
       "   'pk_indicators': [1, 0, 0, 0]},\n",
       "  {'table_name': 'management',\n",
       "   'table_comment': '',\n",
       "   'column_names': ['department_id', 'head_id', 'temporary_acting'],\n",
       "   'column_types': ['int', 'int', 'text'],\n",
       "   'column_comments': ['', '', ''],\n",
       "   'column_contents': [['2', '7'], ['5', '6'], ['Yes', 'No']],\n",
       "   'pk_indicators': [1, 2, 0]}],\n",
       " 'foreign_keys': [['management', 'head_id', 'head', 'head_id'],\n",
       "  ['management', 'department_id', 'department', 'department_id']]}"
      ]
     },
     "execution_count": 16,
     "metadata": {},
     "output_type": "execute_result"
    }
   ],
   "source": [
    "text2sql_data.head()['schema'][0]"
   ]
  },
  {
   "cell_type": "code",
   "execution_count": 14,
   "id": "4b6da95c-23ec-4c29-8c61-ff4754159815",
   "metadata": {
    "scrolled": true
   },
   "outputs": [
    {
     "name": "stdout",
     "output_type": "stream",
     "text": [
      "Defaulting to user installation because normal site-packages is not writeable\n",
      "Requirement already satisfied: datasets in /home/ubuntu/.local/lib/python3.10/site-packages (3.6.0)\n",
      "Requirement already satisfied: numpy>=1.17 in /usr/lib/python3/dist-packages (from datasets) (1.21.5)\n",
      "Requirement already satisfied: pyarrow>=15.0.0 in /home/ubuntu/.local/lib/python3.10/site-packages (from datasets) (20.0.0)\n",
      "Requirement already satisfied: fsspec[http]<=2025.3.0,>=2023.1.0 in /usr/lib/python3/dist-packages (from datasets) (2024.3.1)\n",
      "Requirement already satisfied: huggingface-hub>=0.24.0 in /home/ubuntu/.local/lib/python3.10/site-packages (from datasets) (0.33.2)\n",
      "Requirement already satisfied: pandas in /usr/lib/python3/dist-packages (from datasets) (1.3.5)\n",
      "Requirement already satisfied: packaging in /usr/lib/python3/dist-packages (from datasets) (21.3)\n",
      "Requirement already satisfied: dill<0.3.9,>=0.3.0 in /home/ubuntu/.local/lib/python3.10/site-packages (from datasets) (0.3.8)\n",
      "Requirement already satisfied: multiprocess<0.70.17 in /home/ubuntu/.local/lib/python3.10/site-packages (from datasets) (0.70.16)\n",
      "Requirement already satisfied: requests>=2.32.2 in /home/ubuntu/.local/lib/python3.10/site-packages (from datasets) (2.32.4)\n",
      "Requirement already satisfied: filelock in /usr/lib/python3/dist-packages (from datasets) (3.6.0)\n",
      "Requirement already satisfied: xxhash in /home/ubuntu/.local/lib/python3.10/site-packages (from datasets) (3.5.0)\n",
      "Requirement already satisfied: tqdm>=4.66.3 in /home/ubuntu/.local/lib/python3.10/site-packages (from datasets) (4.67.1)\n",
      "Requirement already satisfied: pyyaml>=5.1 in /usr/lib/python3/dist-packages (from datasets) (5.4.1)\n",
      "Requirement already satisfied: aiohttp!=4.0.0a0,!=4.0.0a1 in /home/ubuntu/.local/lib/python3.10/site-packages (from fsspec[http]<=2025.3.0,>=2023.1.0->datasets) (3.12.13)\n",
      "Requirement already satisfied: typing-extensions>=3.7.4.3 in /usr/lib/python3/dist-packages (from huggingface-hub>=0.24.0->datasets) (4.10.0)\n",
      "Requirement already satisfied: hf-xet<2.0.0,>=1.1.2 in /home/ubuntu/.local/lib/python3.10/site-packages (from huggingface-hub>=0.24.0->datasets) (1.1.5)\n",
      "Requirement already satisfied: charset_normalizer<4,>=2 in /home/ubuntu/.local/lib/python3.10/site-packages (from requests>=2.32.2->datasets) (3.4.2)\n",
      "Requirement already satisfied: urllib3<3,>=1.21.1 in /usr/lib/python3/dist-packages (from requests>=2.32.2->datasets) (1.26.5)\n",
      "Requirement already satisfied: idna<4,>=2.5 in /usr/lib/python3/dist-packages (from requests>=2.32.2->datasets) (3.3)\n",
      "Requirement already satisfied: certifi>=2017.4.17 in /usr/lib/python3/dist-packages (from requests>=2.32.2->datasets) (2020.6.20)\n",
      "Requirement already satisfied: frozenlist>=1.1.1 in /home/ubuntu/.local/lib/python3.10/site-packages (from aiohttp!=4.0.0a0,!=4.0.0a1->fsspec[http]<=2025.3.0,>=2023.1.0->datasets) (1.7.0)\n",
      "Requirement already satisfied: yarl<2.0,>=1.17.0 in /home/ubuntu/.local/lib/python3.10/site-packages (from aiohttp!=4.0.0a0,!=4.0.0a1->fsspec[http]<=2025.3.0,>=2023.1.0->datasets) (1.20.1)\n",
      "Requirement already satisfied: attrs>=17.3.0 in /usr/lib/python3/dist-packages (from aiohttp!=4.0.0a0,!=4.0.0a1->fsspec[http]<=2025.3.0,>=2023.1.0->datasets) (21.2.0)\n",
      "Requirement already satisfied: propcache>=0.2.0 in /home/ubuntu/.local/lib/python3.10/site-packages (from aiohttp!=4.0.0a0,!=4.0.0a1->fsspec[http]<=2025.3.0,>=2023.1.0->datasets) (0.3.2)\n",
      "Requirement already satisfied: async-timeout<6.0,>=4.0 in /home/ubuntu/.local/lib/python3.10/site-packages (from aiohttp!=4.0.0a0,!=4.0.0a1->fsspec[http]<=2025.3.0,>=2023.1.0->datasets) (5.0.1)\n",
      "Requirement already satisfied: aiohappyeyeballs>=2.5.0 in /home/ubuntu/.local/lib/python3.10/site-packages (from aiohttp!=4.0.0a0,!=4.0.0a1->fsspec[http]<=2025.3.0,>=2023.1.0->datasets) (2.6.1)\n",
      "Requirement already satisfied: aiosignal>=1.1.2 in /home/ubuntu/.local/lib/python3.10/site-packages (from aiohttp!=4.0.0a0,!=4.0.0a1->fsspec[http]<=2025.3.0,>=2023.1.0->datasets) (1.3.2)\n",
      "Requirement already satisfied: multidict<7.0,>=4.5 in /home/ubuntu/.local/lib/python3.10/site-packages (from aiohttp!=4.0.0a0,!=4.0.0a1->fsspec[http]<=2025.3.0,>=2023.1.0->datasets) (6.6.3)\n",
      "Defaulting to user installation because normal site-packages is not writeable\n",
      "Requirement already satisfied: transformers in /home/ubuntu/.local/lib/python3.10/site-packages (4.53.0)\n",
      "Requirement already satisfied: tokenizers<0.22,>=0.21 in /home/ubuntu/.local/lib/python3.10/site-packages (from transformers) (0.21.2)\n",
      "Requirement already satisfied: pyyaml>=5.1 in /usr/lib/python3/dist-packages (from transformers) (5.4.1)\n",
      "Requirement already satisfied: numpy>=1.17 in /usr/lib/python3/dist-packages (from transformers) (1.21.5)\n",
      "Requirement already satisfied: packaging>=20.0 in /usr/lib/python3/dist-packages (from transformers) (21.3)\n",
      "Requirement already satisfied: tqdm>=4.27 in /home/ubuntu/.local/lib/python3.10/site-packages (from transformers) (4.67.1)\n",
      "Requirement already satisfied: filelock in /usr/lib/python3/dist-packages (from transformers) (3.6.0)\n",
      "Requirement already satisfied: safetensors>=0.4.3 in /home/ubuntu/.local/lib/python3.10/site-packages (from transformers) (0.5.3)\n",
      "Requirement already satisfied: requests in /home/ubuntu/.local/lib/python3.10/site-packages (from transformers) (2.32.4)\n",
      "Requirement already satisfied: huggingface-hub<1.0,>=0.30.0 in /home/ubuntu/.local/lib/python3.10/site-packages (from transformers) (0.33.2)\n",
      "Requirement already satisfied: regex!=2019.12.17 in /home/ubuntu/.local/lib/python3.10/site-packages (from transformers) (2024.11.6)\n",
      "Requirement already satisfied: hf-xet<2.0.0,>=1.1.2 in /home/ubuntu/.local/lib/python3.10/site-packages (from huggingface-hub<1.0,>=0.30.0->transformers) (1.1.5)\n",
      "Requirement already satisfied: typing-extensions>=3.7.4.3 in /usr/lib/python3/dist-packages (from huggingface-hub<1.0,>=0.30.0->transformers) (4.10.0)\n",
      "Requirement already satisfied: fsspec>=2023.5.0 in /usr/lib/python3/dist-packages (from huggingface-hub<1.0,>=0.30.0->transformers) (2024.3.1)\n",
      "Requirement already satisfied: certifi>=2017.4.17 in /usr/lib/python3/dist-packages (from requests->transformers) (2020.6.20)\n",
      "Requirement already satisfied: charset_normalizer<4,>=2 in /home/ubuntu/.local/lib/python3.10/site-packages (from requests->transformers) (3.4.2)\n",
      "Requirement already satisfied: urllib3<3,>=1.21.1 in /usr/lib/python3/dist-packages (from requests->transformers) (1.26.5)\n",
      "Requirement already satisfied: idna<4,>=2.5 in /usr/lib/python3/dist-packages (from requests->transformers) (3.3)\n",
      "Defaulting to user installation because normal site-packages is not writeable\n",
      "Requirement already satisfied: func_timeout in /home/ubuntu/.local/lib/python3.10/site-packages (4.3.5)\n",
      "Defaulting to user installation because normal site-packages is not writeable\n",
      "Collecting ipywidgets\n",
      "  Downloading ipywidgets-8.1.7-py3-none-any.whl (139 kB)\n",
      "\u001b[2K     \u001b[90m━━━━━━━━━━━━━━━━━━━━━━━━━━━━━━━━━━━━━━━\u001b[0m \u001b[32m139.8/139.8 KB\u001b[0m \u001b[31m4.4 MB/s\u001b[0m eta \u001b[36m0:00:00\u001b[0m\n",
      "Requirement already satisfied: traitlets>=4.3.1 in /usr/lib/python3/dist-packages (from ipywidgets) (5.1.1)\n",
      "Collecting jupyterlab_widgets~=3.0.15\n",
      "  Downloading jupyterlab_widgets-3.0.15-py3-none-any.whl (216 kB)\n",
      "\u001b[2K     \u001b[90m━━━━━━━━━━━━━━━━━━━━━━━━━━━━━━━━━━━━━━\u001b[0m \u001b[32m216.6/216.6 KB\u001b[0m \u001b[31m28.2 MB/s\u001b[0m eta \u001b[36m0:00:00\u001b[0m\n",
      "Requirement already satisfied: ipython>=6.1.0 in /usr/lib/python3/dist-packages (from ipywidgets) (7.31.1)\n",
      "Collecting comm>=0.1.3\n",
      "  Downloading comm-0.2.2-py3-none-any.whl (7.2 kB)\n",
      "Collecting widgetsnbextension~=4.0.14\n",
      "  Downloading widgetsnbextension-4.0.14-py3-none-any.whl (2.2 MB)\n",
      "\u001b[2K     \u001b[90m━━━━━━━━━━━━━━━━━━━━━━━━━━━━━━━━━━━━━━━━\u001b[0m \u001b[32m2.2/2.2 MB\u001b[0m \u001b[31m112.0 MB/s\u001b[0m eta \u001b[36m0:00:00\u001b[0m\n",
      "Installing collected packages: widgetsnbextension, jupyterlab_widgets, comm, ipywidgets\n",
      "Successfully installed comm-0.2.2 ipywidgets-8.1.7 jupyterlab_widgets-3.0.15 widgetsnbextension-4.0.14\n"
     ]
    }
   ],
   "source": [
    "!pip install datasets\n",
    "!pip install transformers\n",
    "!pip install func_timeout\n",
    "!pip install ipywidgets"
   ]
  },
  {
   "cell_type": "code",
   "execution_count": 1,
   "id": "6cc68cc5-4612-4c35-8fbe-5c19f2651855",
   "metadata": {},
   "outputs": [],
   "source": [
    "%load_ext autoreload\n",
    "%autoreload 2"
   ]
  },
  {
   "cell_type": "code",
   "execution_count": 2,
   "id": "6ffc9571-10a8-42ce-94ae-0e72cfb5ebbb",
   "metadata": {},
   "outputs": [],
   "source": [
    "import sys\n",
    "sys.path.append('/home/ubuntu/One-Shot-RLVR-Codes/data/train/one_shot_rlvr/codes_utils/')"
   ]
  },
  {
   "cell_type": "code",
   "execution_count": 9,
   "id": "144da3cb-2113-478d-89e5-94f226926e76",
   "metadata": {},
   "outputs": [],
   "source": [
    "from codes_utils.load_sft_dataset import SFTSQLGenerationDataset"
   ]
  },
  {
   "cell_type": "code",
   "execution_count": 10,
   "id": "a6b41397-78cc-42fa-9040-9bd74dd9ae6a",
   "metadata": {},
   "outputs": [],
   "source": [
    "from huggingface_hub import login\n",
    "login('<token>')"
   ]
  },
  {
   "cell_type": "code",
   "execution_count": 11,
   "id": "6a0ea567-9bd3-47b1-8e7f-19894361f7eb",
   "metadata": {
    "scrolled": true
   },
   "outputs": [],
   "source": [
    "from transformers import AutoTokenizer\n",
    "tokenizer = AutoTokenizer.from_pretrained('bigcode/starcoder')"
   ]
  },
  {
   "cell_type": "code",
   "execution_count": 42,
   "id": "5062d3f6-4088-479e-a1ae-e97270931152",
   "metadata": {},
   "outputs": [
    {
     "name": "stdout",
     "output_type": "stream",
     "text": [
      "apply filtering strategies...\n"
     ]
    },
    {
     "name": "stderr",
     "output_type": "stream",
     "text": [
      "filtering schema items for the dataset: 100%|██████████| 1034/1034 [00:00<00:00, 20867.89it/s]\n"
     ]
    }
   ],
   "source": [
    "text2sql_dataset = SFTSQLGenerationDataset('data/sft_spider_syn_text2sql.json', tokenizer, 8192, \"train\", 6, 10, None)"
   ]
  },
  {
   "cell_type": "code",
   "execution_count": 43,
   "id": "1f57a02c-c450-44a5-aaf7-6fbe7165a47e",
   "metadata": {
    "scrolled": true
   },
   "outputs": [
    {
     "data": {
      "text/plain": [
       "1034"
      ]
     },
     "execution_count": 43,
     "metadata": {},
     "output_type": "execute_result"
    }
   ],
   "source": [
    "len(text2sql_dataset)"
   ]
  },
  {
   "cell_type": "code",
   "execution_count": 44,
   "id": "9d8b8c4a-b66f-4f8b-8dab-cb8366cd6ed4",
   "metadata": {
    "scrolled": true
   },
   "outputs": [
    {
     "name": "stdout",
     "output_type": "stream",
     "text": [
      "database schema :\n",
      "table concert , columns = [ concert.stadium_id ( text | values : 1 , 2 ) , concert.year ( text | values : 2014 , 2015 ) , concert.concert_id ( int | primary key | values : 1 , 2 ) , concert.theme ( text | values : Free choice , Free choice 2 ) , concert.concert_name ( text | values : Auditions , Super bootcamp ) ]\n",
      "table singer_in_concert , columns = [ singer_in_concert.concert_id ( int | primary key | values : 1 , 2 ) , singer_in_concert.singer_id ( text | primary key | values : 2 , 3 ) ]\n",
      "table singer , columns = [ singer.song_name ( text | values : You , Dangerous ) , singer.is_male ( bool | values : F , T ) , singer.singer_id ( int | primary key | values : 1 , 2 ) , singer.country ( text | values : Netherlands , United States ) , singer.song_release_year ( text | values : 1992 , 2008 ) , singer.name ( text | values : Joe Sharp , Timbaland ) , singer.age ( int | values : 52 , 32 ) ]\n",
      "table stadium , columns = [ stadium.lowest ( int | values : 1294 , 1057 ) , stadium.average ( int | values : 2106 , 1477 ) , stadium.stadium_id ( int | primary key | values : 1 , 2 ) , stadium.highest ( int | values : 4812 , 2363 ) , stadium.capacity ( int | values : 10104 , 11998 ) , stadium.name ( text | values : Stark's Park , Somerset Park ) , stadium.location ( text | values : Raith Rovers , Ayr United ) ]\n",
      "foreign keys :\n",
      "concert.stadium_id = stadium.stadium_id\n",
      "singer_in_concert.singer_id = singer.singer_id\n",
      "singer_in_concert.concert_id = concert.concert_id\n",
      "matched contents : None\n",
      "How many vocalists do we have?\n",
      "\n",
      "database schema :\n",
      "table stadium , columns = [ stadium.name ( text | values : Stark's Park , Somerset Park ) , stadium.location ( text | values : Raith Rovers , Ayr United ) , stadium.stadium_id ( int | primary key | values : 1 , 2 ) , stadium.capacity ( int | values : 10104 , 11998 ) , stadium.highest ( int | values : 4812 , 2363 ) , stadium.lowest ( int | values : 1294 , 1057 ) , stadium.average ( int | values : 2106 , 1477 ) ]\n",
      "table singer_in_concert , columns = [ singer_in_concert.singer_id ( text | primary key | values : 2 , 3 ) , singer_in_concert.concert_id ( int | primary key | values : 1 , 2 ) ]\n",
      "table singer , columns = [ singer.singer_id ( int | primary key | values : 1 , 2 ) , singer.song_release_year ( text | values : 1992 , 2008 ) , singer.country ( text | values : Netherlands , United States ) , singer.is_male ( bool | values : F , T ) , singer.name ( text | values : Joe Sharp , Timbaland ) , singer.song_name ( text | values : You , Dangerous ) , singer.age ( int | values : 52 , 32 ) ]\n",
      "table concert , columns = [ concert.concert_id ( int | primary key | values : 1 , 2 ) , concert.stadium_id ( text | values : 1 , 2 ) , concert.concert_name ( text | values : Auditions , Super bootcamp ) , concert.year ( text | values : 2014 , 2015 ) , concert.theme ( text | values : Free choice , Free choice 2 ) ]\n",
      "foreign keys :\n",
      "concert.stadium_id = stadium.stadium_id\n",
      "singer_in_concert.singer_id = singer.singer_id\n",
      "singer_in_concert.concert_id = concert.concert_id\n",
      "matched contents : None\n",
      "What is the total number of musicians?\n",
      "\n"
     ]
    }
   ],
   "source": [
    "all_lines= []\n",
    "i = 0\n",
    "for data_point in text2sql_dataset:\n",
    "    line = {}\n",
    "    line['data_source'] = 'text2sql_spider'\n",
    "    line['prompt'] = [{'content':data_point[0],'role':'user'}]\n",
    "    line['reward_model'] = {'ground_truth':data_point[1], 'style':'rule'}\n",
    "    line['ability'] = 'text2sql'\n",
    "    line['extra_info'] = {'index':i, 'split':'train'}\n",
    "    all_lines.append(line)\n",
    "    i+=1"
   ]
  },
  {
   "cell_type": "code",
   "execution_count": 45,
   "id": "45b6a196-5d1d-413c-b069-9917d24828d4",
   "metadata": {
    "scrolled": true
   },
   "outputs": [],
   "source": [
    "import json\n",
    "text2sql_rlvr= pd.read_json(json.dumps(all_lines))"
   ]
  },
  {
   "cell_type": "code",
   "execution_count": 46,
   "id": "73448099-a9fd-49c0-b8ff-8c66c0f4d5cc",
   "metadata": {},
   "outputs": [
    {
     "data": {
      "text/plain": [
       "1034"
      ]
     },
     "execution_count": 46,
     "metadata": {},
     "output_type": "execute_result"
    }
   ],
   "source": [
    "len(all_lines)"
   ]
  },
  {
   "cell_type": "code",
   "execution_count": 47,
   "id": "0139b22c-5df5-435b-943f-b01e72004c04",
   "metadata": {},
   "outputs": [],
   "source": [
    "text2sql_rlvr.sample(n=1000,random_state=42).to_parquet('spyder_syn.parquet',engine='pyarrow')"
   ]
  },
  {
   "cell_type": "code",
   "execution_count": 39,
   "id": "a9cc6799-79a6-46da-8bec-f2f4bb2469a7",
   "metadata": {},
   "outputs": [
    {
     "name": "stdout",
     "output_type": "stream",
     "text": [
      "total 11G\n",
      "-rw-r--r-- 1 ubuntu ubuntu  34K Jul  3 15:26 'Parquet Viewer.ipynb'\n",
      "drwxr-xr-x 4 ubuntu ubuntu 4.0K Jul  3 14:46  codes_utils\n",
      "drwxr-xr-x 3 ubuntu ubuntu 4.0K Feb 27  2024  data\n",
      "-rw-r--r-- 1 ubuntu ubuntu  11G Feb 27  2024  data.zip\n",
      "-rw-r--r-- 1 ubuntu ubuntu 204K Jul  3 12:39  dsr_sub.parquet\n",
      "-rw-r--r-- 1 ubuntu ubuntu 6.6K Jul  3 12:39  merge_pi1_pi13_r128.parquet\n",
      "-rw-r--r-- 1 ubuntu ubuntu 7.7K Jul  3 12:39  merge_pi1_pi2_pi13_pi1209_r128.parquet\n",
      "-rw-r--r-- 1 ubuntu ubuntu 6.9K Jul  3 12:39  pi1209_r128.parquet\n",
      "-rw-r--r-- 1 ubuntu ubuntu 6.2K Jul  3 12:39  pi13_r128.parquet\n",
      "-rw-r--r-- 1 ubuntu ubuntu 6.6K Jul  3 12:39  pi1_r128.parquet\n",
      "-rw-r--r-- 1 ubuntu ubuntu 5.4K Jul  3 12:39  pi2_r128.parquet\n",
      "-rw-r--r-- 1 ubuntu ubuntu 634K Jul  3 15:26  spyder_sub.parquet\n"
     ]
    },
    {
     "name": "stderr",
     "output_type": "stream",
     "text": [
      "huggingface/tokenizers: The current process just got forked, after parallelism has already been used. Disabling parallelism to avoid deadlocks...\n",
      "To disable this warning, you can either:\n",
      "\t- Avoid using `tokenizers` before the fork if possible\n",
      "\t- Explicitly set the environment variable TOKENIZERS_PARALLELISM=(true | false)\n"
     ]
    }
   ],
   "source": [
    "!ls -lh"
   ]
  },
  {
   "cell_type": "code",
   "execution_count": null,
   "id": "a9273698-4db7-464d-a749-c3b13fb190e6",
   "metadata": {},
   "outputs": [],
   "source": []
  }
 ],
 "metadata": {
  "kernelspec": {
   "display_name": "Python 3 (ipykernel)",
   "language": "python",
   "name": "python3"
  },
  "language_info": {
   "codemirror_mode": {
    "name": "ipython",
    "version": 3
   },
   "file_extension": ".py",
   "mimetype": "text/x-python",
   "name": "python",
   "nbconvert_exporter": "python",
   "pygments_lexer": "ipython3",
   "version": "3.10.12"
  }
 },
 "nbformat": 4,
 "nbformat_minor": 5
}
